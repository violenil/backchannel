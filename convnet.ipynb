{
 "cells": [
  {
   "cell_type": "code",
   "execution_count": 1,
   "metadata": {},
   "outputs": [],
   "source": [
    "import os\n",
    "import numpy as np\n",
    "from tqdm import tqdm"
   ]
  },
  {
   "cell_type": "code",
   "execution_count": 2,
   "metadata": {},
   "outputs": [],
   "source": [
    "positive_samples = np.load ( \"../datasets/train/out_pos/data.mfcc.npy\" )\n",
    "negative_samples = np.load ( \"../datasets/train/out_neg/data.mfcc.npy\" )"
   ]
  },
  {
   "cell_type": "code",
   "execution_count": 3,
   "metadata": {},
   "outputs": [
    {
     "name": "stdout",
     "output_type": "stream",
     "text": [
      "34524\n",
      "34524\n"
     ]
    }
   ],
   "source": [
    "#check balanceness of the data.\n",
    "print(len(positive_samples))\n",
    "print(len(negative_samples))"
   ]
  },
  {
   "cell_type": "code",
   "execution_count": 4,
   "metadata": {},
   "outputs": [
    {
     "data": {
      "text/plain": [
       "(34524, 13, 87)"
      ]
     },
     "execution_count": 4,
     "metadata": {},
     "output_type": "execute_result"
    }
   ],
   "source": [
    "positive_samples.shape"
   ]
  },
  {
   "cell_type": "code",
   "execution_count": 5,
   "metadata": {},
   "outputs": [],
   "source": [
    "N_FEATURES = np.concatenate(positive_samples[2]).shape[0]"
   ]
  },
  {
   "cell_type": "code",
   "execution_count": 6,
   "metadata": {},
   "outputs": [
    {
     "name": "stdout",
     "output_type": "stream",
     "text": [
      "69048\n"
     ]
    }
   ],
   "source": [
    "training_data = []\n",
    "for i in range(positive_samples.shape[0]):\n",
    "    training_data.append([np.concatenate(positive_samples[i]),np.eye(2)[0]]) \n",
    "\n",
    "for i in range(negative_samples.shape[0]):\n",
    "    training_data.append([np.concatenate(negative_samples[i]),np.eye(2)[1]])\n",
    "\n",
    "print(len(training_data))"
   ]
  },
  {
   "cell_type": "code",
   "execution_count": 7,
   "metadata": {},
   "outputs": [],
   "source": [
    "import random\n",
    "random.shuffle(training_data) # shuffle the data!"
   ]
  },
  {
   "cell_type": "code",
   "execution_count": 8,
   "metadata": {},
   "outputs": [],
   "source": [
    "import torch\n",
    "import torch.nn as nn\n",
    "import torch.nn.functional as F"
   ]
  },
  {
   "cell_type": "code",
   "execution_count": 9,
   "metadata": {},
   "outputs": [
    {
     "name": "stdout",
     "output_type": "stream",
     "text": [
      "Running on the GPU\n"
     ]
    }
   ],
   "source": [
    "if torch.cuda.is_available():\n",
    "    device = torch.device(\"cuda:0\")\n",
    "    print(\"Running on the GPU\")\n",
    "else  :\n",
    "    device = torch.device(\"cpu\")\n",
    "    print(\"Running on the CPU\")"
   ]
  },
  {
   "cell_type": "code",
   "execution_count": 10,
   "metadata": {},
   "outputs": [],
   "source": [
    "class ConvNet(nn.Module):\n",
    "    def __init__(self):\n",
    "        super().__init__()\n",
    "        self.c1 = 16\n",
    "        self.c2 = 32\n",
    "        self.c3 = 64\n",
    "        \n",
    "        self.conv1 = nn.Conv1d(1,self.c1,5)\n",
    "        self.conv2 = nn.Conv1d(self.c1,self.c2,5)\n",
    "        self.conv3 = nn.Conv1d(self.c2,self.c3,5)\n",
    "        \n",
    "        x = torch.randn(N_FEATURES).view(-1,1,N_FEATURES)\n",
    "        self._to_linear = None\n",
    "        \n",
    "        self.convs(x)\n",
    "        \n",
    "        self.fc1 = nn.Linear(self._to_linear,512)\n",
    "        self.fc2 = nn.Linear(512,512)\n",
    "        self.fc3 = nn.Linear(512,2)\n",
    "        \n",
    "        \n",
    "    def convs ( self, x ):\n",
    "        \n",
    "        x = F.max_pool1d(F.relu(self.conv1(x)),2)\n",
    "        x = F.max_pool1d(F.relu(self.conv2(x)),2)\n",
    "        x = F.max_pool1d(F.relu(self.conv3(x)),2)\n",
    "        \n",
    "        if self._to_linear is None:\n",
    "            #print(x[0].shape)\n",
    "            self._to_linear = x[0].shape[0]*x[0].shape[1]\n",
    "        \n",
    "        return x\n",
    "    def forward(self,x):\n",
    "        x = self.convs(x)\n",
    "        \n",
    "        x = x.view(-1,self._to_linear)\n",
    "        x = F.relu(self.fc1(x))\n",
    "        x = F.relu(self.fc2(x))\n",
    "        x = self.fc3(x)\n",
    "        return F.softmax(x,dim=1)"
   ]
  },
  {
   "cell_type": "code",
   "execution_count": 15,
   "metadata": {},
   "outputs": [],
   "source": [
    "net = ConvNet().to(device)"
   ]
  },
  {
   "cell_type": "code",
   "execution_count": 13,
   "metadata": {},
   "outputs": [
    {
     "name": "stdout",
     "output_type": "stream",
     "text": [
      "6904\n",
      "62144\n",
      "6904\n"
     ]
    }
   ],
   "source": [
    "import torch.optim as optim\n",
    "from sklearn.utils import shuffle\n",
    "import random\n",
    "\n",
    "X = torch.Tensor([i[0] for i in training_data]).view(-1,N_FEATURES)\n",
    "max_training = torch.max(X)\n",
    "min_training = torch.min(X)\n",
    "X = (X-min_training)/ (max_training - min_training) * 2 -1 # scale between -1 and 1.\n",
    "\n",
    "y = torch.Tensor( [i[1] for i in training_data])\n",
    "\n",
    "VAL_PCT = 0.1\n",
    "\n",
    "val_size = int(len(X)*VAL_PCT)\n",
    "print(val_size)\n",
    "\n",
    "train_X = X[:-val_size]\n",
    "train_y = y[:-val_size]\n",
    "\n",
    "test_X = X[-val_size:]\n",
    "test_y = y[-val_size:]\n",
    "print(len(train_X))\n",
    "print(len(test_X))"
   ]
  },
  {
   "cell_type": "code",
   "execution_count": 16,
   "metadata": {},
   "outputs": [
    {
     "data": {
      "text/plain": [
       "tensor([-0.2323, -0.2519, -0.2969,  ...,  0.4599,  0.4583,  0.4604])"
      ]
     },
     "execution_count": 16,
     "metadata": {},
     "output_type": "execute_result"
    }
   ],
   "source": [
    "train_X[0]"
   ]
  },
  {
   "cell_type": "code",
   "execution_count": 17,
   "metadata": {},
   "outputs": [
    {
     "data": {
      "text/plain": [
       "tensor([-0.2323, -0.2519, -0.2969,  ...,  0.4599,  0.4583,  0.4604])"
      ]
     },
     "execution_count": 17,
     "metadata": {},
     "output_type": "execute_result"
    }
   ],
   "source": [
    "train_X[0]"
   ]
  },
  {
   "cell_type": "code",
   "execution_count": 18,
   "metadata": {
    "scrolled": true
   },
   "outputs": [
    {
     "name": "stderr",
     "output_type": "stream",
     "text": [
      "100%|██████████| 622/622 [00:08<00:00, 75.21it/s]\n",
      "  1%|▏         | 8/622 [00:00<00:08, 75.44it/s]"
     ]
    },
    {
     "name": "stdout",
     "output_type": "stream",
     "text": [
      "Epoch: 0. Loss: 0.24956390261650085\n"
     ]
    },
    {
     "name": "stderr",
     "output_type": "stream",
     "text": [
      "100%|██████████| 622/622 [00:08<00:00, 76.71it/s]\n",
      "  1%|▏         | 8/622 [00:00<00:07, 78.91it/s]"
     ]
    },
    {
     "name": "stdout",
     "output_type": "stream",
     "text": [
      "Epoch: 1. Loss: 0.24959252774715424\n"
     ]
    },
    {
     "name": "stderr",
     "output_type": "stream",
     "text": [
      "100%|██████████| 622/622 [00:08<00:00, 77.33it/s]\n",
      "  1%|▏         | 8/622 [00:00<00:07, 79.90it/s]"
     ]
    },
    {
     "name": "stdout",
     "output_type": "stream",
     "text": [
      "Epoch: 2. Loss: 0.24935996532440186\n"
     ]
    },
    {
     "name": "stderr",
     "output_type": "stream",
     "text": [
      "100%|██████████| 622/622 [00:08<00:00, 77.43it/s]\n",
      "  1%|▏         | 9/622 [00:00<00:07, 80.93it/s]"
     ]
    },
    {
     "name": "stdout",
     "output_type": "stream",
     "text": [
      "Epoch: 3. Loss: 0.24938416481018066\n"
     ]
    },
    {
     "name": "stderr",
     "output_type": "stream",
     "text": [
      "100%|██████████| 622/622 [00:08<00:00, 75.71it/s]\n",
      "  1%|▏         | 9/622 [00:00<00:07, 80.69it/s]"
     ]
    },
    {
     "name": "stdout",
     "output_type": "stream",
     "text": [
      "Epoch: 4. Loss: 0.24949243664741516\n"
     ]
    },
    {
     "name": "stderr",
     "output_type": "stream",
     "text": [
      "100%|██████████| 622/622 [00:08<00:00, 76.22it/s]\n",
      "  1%|▏         | 9/622 [00:00<00:07, 80.18it/s]"
     ]
    },
    {
     "name": "stdout",
     "output_type": "stream",
     "text": [
      "Epoch: 5. Loss: 0.24956658482551575\n"
     ]
    },
    {
     "name": "stderr",
     "output_type": "stream",
     "text": [
      "100%|██████████| 622/622 [00:08<00:00, 76.27it/s]\n",
      "  1%|▏         | 8/622 [00:00<00:08, 73.33it/s]"
     ]
    },
    {
     "name": "stdout",
     "output_type": "stream",
     "text": [
      "Epoch: 6. Loss: 0.2496030628681183\n"
     ]
    },
    {
     "name": "stderr",
     "output_type": "stream",
     "text": [
      "100%|██████████| 622/622 [00:08<00:00, 75.17it/s]\n",
      "  1%|▏         | 8/622 [00:00<00:08, 76.05it/s]"
     ]
    },
    {
     "name": "stdout",
     "output_type": "stream",
     "text": [
      "Epoch: 7. Loss: 0.24961502850055695\n"
     ]
    },
    {
     "name": "stderr",
     "output_type": "stream",
     "text": [
      "100%|██████████| 622/622 [00:08<00:00, 75.98it/s]\n",
      "  1%|▏         | 8/622 [00:00<00:08, 75.01it/s]"
     ]
    },
    {
     "name": "stdout",
     "output_type": "stream",
     "text": [
      "Epoch: 8. Loss: 0.2496185302734375\n"
     ]
    },
    {
     "name": "stderr",
     "output_type": "stream",
     "text": [
      "100%|██████████| 622/622 [00:08<00:00, 75.25it/s]"
     ]
    },
    {
     "name": "stdout",
     "output_type": "stream",
     "text": [
      "Epoch: 9. Loss: 0.2496190071105957\n"
     ]
    },
    {
     "name": "stderr",
     "output_type": "stream",
     "text": [
      "\n"
     ]
    }
   ],
   "source": [
    "BATCH_SIZE = 100\n",
    "\n",
    "EPOCHS = 10\n",
    "optimizer = optim.Adam(net.parameters(),lr=0.001)\n",
    "loss_function = nn.MSELoss()\n",
    "def train(net):\n",
    "    for epoch in range(EPOCHS):\n",
    "        for i in tqdm(range(0,len(train_X),BATCH_SIZE)):\n",
    "            batch_X = train_X[i:i+BATCH_SIZE].view(-1,1,N_FEATURES).to(device)\n",
    "            batch_y = train_y[i:i+BATCH_SIZE].to(device)\n",
    "\n",
    "            net.zero_grad() # check why \n",
    "            outputs = net(batch_X)\n",
    "            #print(batch_y.shape)\n",
    "            loss  = loss_function(outputs,batch_y)\n",
    "            loss.backward()\n",
    "            optimizer.step()# check why \n",
    "        print(f\"Epoch: {epoch}. Loss: {loss}\")\n",
    "\n",
    "train(net)"
   ]
  },
  {
   "cell_type": "code",
   "execution_count": 19,
   "metadata": {},
   "outputs": [
    {
     "name": "stderr",
     "output_type": "stream",
     "text": [
      "100%|██████████| 6904/6904 [00:08<00:00, 775.05it/s]"
     ]
    },
    {
     "name": "stdout",
     "output_type": "stream",
     "text": [
      "Accuracy: 0.495\n"
     ]
    },
    {
     "name": "stderr",
     "output_type": "stream",
     "text": [
      "\n"
     ]
    }
   ],
   "source": [
    "def test(net):\n",
    "    correct = 0\n",
    "    total = 0\n",
    "    with torch.no_grad():\n",
    "        for i in tqdm(range(len(test_X))):\n",
    "            real_class = torch.argmax(test_y[i])\n",
    "            net_out = net(test_X[i].view(-1,1,N_FEATURES).to(device))[0]\n",
    "            predicted_class = torch.argmax(net_out)\n",
    "            if predicted_class == real_class:\n",
    "                correct += 1\n",
    "            total += 1\n",
    "\n",
    "    print(f\"Accuracy: {round(correct/total,3)}\")\n",
    "    \n",
    "test(net)"
   ]
  },
  {
   "cell_type": "code",
   "execution_count": 33,
   "metadata": {},
   "outputs": [],
   "source": [
    "def fwd_pass(X,y,train=False):\n",
    "    if train:\n",
    "        net.zero_grad()\n",
    "    outputs = net(X)\n",
    "    matches = [ torch.argmax(i) == torch.argmax(j) for i,j in zip(outputs,y)]\n",
    "    acc = matches.count(True)/len(matches)\n",
    "    loss = loss_function(outputs,y)\n",
    "    \n",
    "    if train:\n",
    "        loss.backward()\n",
    "        optimizer.step()\n",
    "    \n",
    "    return acc, loss"
   ]
  },
  {
   "cell_type": "code",
   "execution_count": 34,
   "metadata": {},
   "outputs": [
    {
     "name": "stdout",
     "output_type": "stream",
     "text": [
      "0.55 tensor(0.2474, device='cuda:0')\n"
     ]
    }
   ],
   "source": [
    "def test (size=32):\n",
    "    random_start = np.random.randint(len(test_X)-size)\n",
    "    \n",
    "    X,y = test_X[random_start:random_start+size], test_y [random_start:random_start+size]\n",
    "    with torch.no_grad():\n",
    "        val_acc, val_loss = fwd_pass(X.view(-1,1,N_FEATURES).to(device),y.to(device))\n",
    "    \n",
    "    return val_acc,val_loss\n",
    "    \n",
    "val_acc, val_loss = test(size=100)\n",
    "print(val_acc,val_loss)"
   ]
  },
  {
   "cell_type": "code",
   "execution_count": 36,
   "metadata": {},
   "outputs": [
    {
     "name": "stdout",
     "output_type": "stream",
     "text": [
      "model-1592385501.log\n"
     ]
    }
   ],
   "source": [
    "import time\n",
    "\n",
    "MODEL_NAME = f\"model-{int(time.time())}.log\"\n",
    "\n",
    "net = ConvNet().to(device)\n",
    "\n",
    "optimizer = optim.Adam(net.parameters(),lr=0.001)\n",
    "loss_function = nn.MSELoss()\n",
    "\n",
    "\n",
    "print(MODEL_NAME)\n",
    "\n",
    "def train():\n",
    "    BATCH_SIZE = 100\n",
    "    EPOCHS = 30\n",
    "    with open(MODEL_NAME,\"a\") as f:\n",
    "        for epoch in range(EPOCHS):\n",
    "            for i in tqdm(range(0,len(train_X),BATCH_SIZE)):\n",
    "                batch_X = train_X[i:i+BATCH_SIZE].view(-1,1,N_FEATURES).to(device)\n",
    "                batch_y = train_y[i:i+BATCH_SIZE].to(device)\n",
    "                \n",
    "                \n",
    "                acc, loss = fwd_pass (batch_X,batch_y,train=True)\n",
    "                if i % 50 == 0:\n",
    "                    val_acc, val_loss = test(size=64)\n",
    "                    f.write(f\"{MODEL_NAME},{round(time.time(),3)},{round(float(acc),2)},{round(float(loss),4)},{round(float(val_acc),2)},{round(float(val_loss),4)}\\n\")\n",
    "                "
   ]
  },
  {
   "cell_type": "code",
   "execution_count": 37,
   "metadata": {},
   "outputs": [
    {
     "name": "stderr",
     "output_type": "stream",
     "text": [
      "100%|██████████| 72/72 [00:01<00:00, 46.91it/s]\n",
      "100%|██████████| 72/72 [00:01<00:00, 47.44it/s]\n",
      "100%|██████████| 72/72 [00:01<00:00, 47.91it/s]\n",
      "100%|██████████| 72/72 [00:01<00:00, 47.49it/s]\n",
      "100%|██████████| 72/72 [00:01<00:00, 47.86it/s]\n",
      "100%|██████████| 72/72 [00:01<00:00, 46.82it/s]\n",
      "100%|██████████| 72/72 [00:01<00:00, 47.79it/s]\n",
      "100%|██████████| 72/72 [00:01<00:00, 47.02it/s]\n",
      "100%|██████████| 72/72 [00:01<00:00, 47.31it/s]\n",
      "100%|██████████| 72/72 [00:01<00:00, 46.68it/s]\n",
      "100%|██████████| 72/72 [00:01<00:00, 44.81it/s]\n",
      "100%|██████████| 72/72 [00:01<00:00, 47.20it/s]\n",
      "100%|██████████| 72/72 [00:01<00:00, 47.27it/s]\n",
      "100%|██████████| 72/72 [00:01<00:00, 47.19it/s]\n",
      "100%|██████████| 72/72 [00:01<00:00, 47.14it/s]\n",
      "100%|██████████| 72/72 [00:01<00:00, 47.72it/s]\n",
      "100%|██████████| 72/72 [00:01<00:00, 46.95it/s]\n",
      "100%|██████████| 72/72 [00:01<00:00, 46.94it/s]\n",
      "100%|██████████| 72/72 [00:01<00:00, 47.05it/s]\n",
      "100%|██████████| 72/72 [00:01<00:00, 47.44it/s]\n",
      "100%|██████████| 72/72 [00:01<00:00, 47.39it/s]\n",
      "100%|██████████| 72/72 [00:01<00:00, 47.85it/s]\n",
      "100%|██████████| 72/72 [00:01<00:00, 47.03it/s]\n",
      "100%|██████████| 72/72 [00:01<00:00, 47.47it/s]\n",
      "100%|██████████| 72/72 [00:01<00:00, 46.78it/s]\n",
      "100%|██████████| 72/72 [00:01<00:00, 47.16it/s]\n",
      "100%|██████████| 72/72 [00:01<00:00, 47.14it/s]\n",
      "100%|██████████| 72/72 [00:01<00:00, 47.30it/s]\n",
      "100%|██████████| 72/72 [00:01<00:00, 47.97it/s]\n",
      "100%|██████████| 72/72 [00:01<00:00, 47.95it/s]\n"
     ]
    }
   ],
   "source": [
    "train()"
   ]
  },
  {
   "cell_type": "code",
   "execution_count": 38,
   "metadata": {},
   "outputs": [],
   "source": [
    "%matplotlib qt\n",
    "import matplotlib.pyplot as plt\n",
    "from matplotlib import style\n",
    "\n",
    "style.use(\"ggplot\")\n",
    "\n",
    "def create_acc_loss_graph():\n",
    "    contents = open(MODEL_NAME,\"r\").read().split('\\n')\n",
    "    \n",
    "    times = []\n",
    "    accuracies = []\n",
    "    losses = []\n",
    "    \n",
    "    val_accs = []\n",
    "    val_losses = []\n",
    "    \n",
    "    for c in contents:\n",
    "        if MODEL_NAME in c:\n",
    "            name,timestamp,acc,loss,val_acc,val_loss = c.split(\",\")\n",
    "            \n",
    "            times.append(float(timestamp))\n",
    "            accuracies.append(float(acc))\n",
    "            losses.append(float(loss))\n",
    "            val_accs.append(float(val_acc))\n",
    "            val_losses.append(float(val_loss))\n",
    "            \n",
    "    fig = plt.figure()\n",
    "    ax1 = plt.subplot2grid((2,1),(0,0))\n",
    "    ax2 = plt.subplot2grid((2,1),(1,0),sharex=ax1)\n",
    "    \n",
    "    ax1.plot(times,accuracies,label=\"acc\")\n",
    "    ax1.plot(times,val_accs,label=\"val_acc\")\n",
    "    ax1.legend(loc=2)\n",
    "    \n",
    "    ax2.plot(times,losses,label=\"loss\")\n",
    "    ax2.plot(times,val_losses,label=\"val_loss\")\n",
    "    ax2.legend(loc=2)\n",
    "    \n",
    "    plt.show()\n",
    "create_acc_loss_graph()"
   ]
  },
  {
   "cell_type": "code",
   "execution_count": null,
   "metadata": {},
   "outputs": [],
   "source": []
  }
 ],
 "metadata": {
  "kernelspec": {
   "display_name": "Python 3",
   "language": "python",
   "name": "python3"
  },
  "language_info": {
   "codemirror_mode": {
    "name": "ipython",
    "version": 3
   },
   "file_extension": ".py",
   "mimetype": "text/x-python",
   "name": "python",
   "nbconvert_exporter": "python",
   "pygments_lexer": "ipython3",
   "version": "3.8.2"
  }
 },
 "nbformat": 4,
 "nbformat_minor": 4
}
